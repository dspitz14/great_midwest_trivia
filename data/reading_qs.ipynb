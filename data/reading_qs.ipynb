{
 "cells": [
  {
   "cell_type": "code",
   "execution_count": 54,
   "metadata": {
    "collapsed": true
   },
   "outputs": [],
   "source": [
    "import pandas as pd\n",
    "import docx2txt\n",
    "import re"
   ]
  },
  {
   "cell_type": "code",
   "execution_count": 55,
   "metadata": {
    "collapsed": true
   },
   "outputs": [],
   "source": [
    "def read_questions(filename, trivia_year):\n",
    "    '''Takes in filename and puts questions into pandas dataframe. The shutout, action, and thrownout notes are in the answer for the question before it. '''\n",
    "    my_text = docx2txt.process(filename)\n",
    "    l_questions = my_text.split('#')\n",
    "    l_questions = l_questions[1:]\n",
    "\n",
    "    years = []\n",
    "    q_numbers = []\n",
    "    questions = []\n",
    "    q_answers = []\n",
    "    \n",
    "    counter = 0\n",
    "\n",
    "    for questioni in l_questions:\n",
    "        counter += 1\n",
    "#         print(counter)\n",
    "        year = trivia_year\n",
    "        q_number, question_answer = questioni.split('Q:')\n",
    "        q_a_check = question_answer.split('A:')\n",
    "        if len(q_a_check) > 1:\n",
    "            question = q_a_check[0]\n",
    "            answer = q_a_check[1]\n",
    "        else:\n",
    "            question = q_a_check[0]\n",
    "            answer = None\n",
    "        final_num = re.sub(r\"[\\n\\t]*\", \"\", q_number)\n",
    "        stepq = re.sub(r\"[\\n\\t]*\", \"\", str(question))\n",
    "        final_q = re.sub('\\s+', ' ', stepq).strip()\n",
    "        stepa = re.sub(r\"[\\n\\t]*\", \"\", str(answer))\n",
    "        final_a = re.sub('\\s+', ' ', stepa).strip()\n",
    "        years.append(year)\n",
    "        q_numbers.append(final_num)\n",
    "        questions.append(final_q)\n",
    "        q_answers.append(final_a)\n",
    "\n",
    "    df = pd.DataFrame({'q_answer':q_answers,'question':questions, 'q_number':q_numbers,'year':years, 'source': ''})\n",
    "\n",
    "    return df"
   ]
  },
  {
   "cell_type": "code",
   "execution_count": 74,
   "metadata": {},
   "outputs": [],
   "source": [
    "df1994 = read_questions('Trivia_Questions_1994.docx', 1994)\n",
    "df1995 = read_questions('Trivia_Questions_1995.docx', 1995)\n",
    "df1996 = read_questions('Trivia_Questions_1996.docx', 1996)\n",
    "df1997 = read_questions('Trivia_Questions_1997.docx', 1997)\n",
    "df1998 = read_questions('Trivia_Questions_1998.docx', 1998)\n",
    "df1999 = read_questions('Trivia_Questions_1999.docx', 1999)\n",
    "df2000 = read_questions('Trivia_Questions_2000.docx', 2000)\n",
    "df2001 = read_questions('Trivia_Questions_2001.docx', 2001)\n",
    "df2003 = read_questions('Trivia_Questions_2003.docx', 2003)\n",
    "df2004 = read_questions('Trivia_Questions_2004.docx', 2004)\n",
    "df2006 = read_questions(\"Trivia_Questions_2006.docx\", 2006)\n",
    "df2007 = read_questions('Trivia_Questions_2007.docx', 2007)\n",
    "df2010 = read_questions('Trivia_Questions_2010.docx', 2010)\n",
    "df2011 = read_questions('Trivia_Questions_2011.docx', 2011)\n",
    "df2012 = pd.read_csv('Trivia_questions_2012.csv', encoding='latin-1')\n",
    "frames = [df1994, df1995, df1996, df1997, df1998, df1999, df2000, df2001, df2003, df2004, df2006, df2007, df2010, df2011, df2012]"
   ]
  },
  {
   "cell_type": "code",
   "execution_count": 75,
   "metadata": {},
   "outputs": [],
   "source": [
    "q_df = pd.concat(frames)"
   ]
  },
  {
   "cell_type": "code",
   "execution_count": 77,
   "metadata": {},
   "outputs": [],
   "source": [
    "q_df.to_csv('merged_question.csv')"
   ]
  },
  {
   "cell_type": "code",
   "execution_count": null,
   "metadata": {},
   "outputs": [],
   "source": []
  },
  {
   "cell_type": "code",
   "execution_count": null,
   "metadata": {},
   "outputs": [],
   "source": []
  },
  {
   "cell_type": "code",
   "execution_count": null,
   "metadata": {},
   "outputs": [],
   "source": []
  },
  {
   "cell_type": "code",
   "execution_count": null,
   "metadata": {},
   "outputs": [],
   "source": []
  },
  {
   "cell_type": "code",
   "execution_count": null,
   "metadata": {},
   "outputs": [],
   "source": []
  },
  {
   "cell_type": "code",
   "execution_count": null,
   "metadata": {},
   "outputs": [],
   "source": []
  },
  {
   "cell_type": "code",
   "execution_count": null,
   "metadata": {},
   "outputs": [],
   "source": []
  },
  {
   "cell_type": "code",
   "execution_count": null,
   "metadata": {},
   "outputs": [],
   "source": []
  },
  {
   "cell_type": "code",
   "execution_count": null,
   "metadata": {},
   "outputs": [],
   "source": []
  },
  {
   "cell_type": "code",
   "execution_count": null,
   "metadata": {},
   "outputs": [],
   "source": []
  },
  {
   "cell_type": "code",
   "execution_count": null,
   "metadata": {},
   "outputs": [],
   "source": []
  },
  {
   "cell_type": "code",
   "execution_count": null,
   "metadata": {},
   "outputs": [],
   "source": []
  },
  {
   "cell_type": "code",
   "execution_count": null,
   "metadata": {},
   "outputs": [],
   "source": []
  },
  {
   "cell_type": "code",
   "execution_count": null,
   "metadata": {},
   "outputs": [],
   "source": []
  },
  {
   "cell_type": "code",
   "execution_count": null,
   "metadata": {},
   "outputs": [],
   "source": []
  },
  {
   "cell_type": "code",
   "execution_count": null,
   "metadata": {},
   "outputs": [],
   "source": []
  },
  {
   "cell_type": "code",
   "execution_count": null,
   "metadata": {
    "collapsed": true
   },
   "outputs": [],
   "source": []
  },
  {
   "cell_type": "code",
   "execution_count": null,
   "metadata": {
    "collapsed": true
   },
   "outputs": [],
   "source": []
  }
 ],
 "metadata": {
  "kernelspec": {
   "display_name": "Python 3",
   "language": "python",
   "name": "python3"
  },
  "language_info": {
   "codemirror_mode": {
    "name": "ipython",
    "version": 3
   },
   "file_extension": ".py",
   "mimetype": "text/x-python",
   "name": "python",
   "nbconvert_exporter": "python",
   "pygments_lexer": "ipython3",
   "version": "3.6.4"
  }
 },
 "nbformat": 4,
 "nbformat_minor": 2
}
