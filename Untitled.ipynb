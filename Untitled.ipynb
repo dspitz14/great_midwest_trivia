{
 "cells": [
  {
   "cell_type": "code",
   "execution_count": 14,
   "metadata": {
    "collapsed": true
   },
   "outputs": [],
   "source": [
    "from itertools import permutations\n",
    "\n",
    "def next_bigger(n):\n",
    "    digs = [int(d) for d in str(n)]\n",
    "    combos = list(set(permutations(digs, len(digs))))\n",
    "    numbers = []\n",
    "    for combo in combos:\n",
    "        numbers.append(int(''.join(str(i) for i in combo)))\n",
    "        \n",
    "    sorted_numbers = sorted(numbers)\n",
    "    if n == sorted_numbers[len(sorted_numbers)-1]:\n",
    "        return -1\n",
    "    else:\n",
    "        next_bigger = sorted_numbers[sorted_numbers.index(n)+1]\n",
    "        return next_bigger"
   ]
  },
  {
   "cell_type": "code",
   "execution_count": null,
   "metadata": {
    "collapsed": true
   },
   "outputs": [],
   "source": []
  },
  {
   "cell_type": "code",
   "execution_count": null,
   "metadata": {
    "collapsed": true
   },
   "outputs": [],
   "source": [
    "next_bigger(12)\n",
    "next_bigger(513)\n",
    "next_bigger(2017)\n",
    "next_bigger(414)\n",
    "next_bigger(144)\n"
   ]
  },
  {
   "cell_type": "code",
   "execution_count": 11,
   "metadata": {},
   "outputs": [
    {
     "data": {
      "text/plain": [
       "-1"
      ]
     },
     "execution_count": 11,
     "metadata": {},
     "output_type": "execute_result"
    }
   ],
   "source": [
    "next_bigger(9876543210)"
   ]
  },
  {
   "cell_type": "code",
   "execution_count": null,
   "metadata": {
    "collapsed": true
   },
   "outputs": [],
   "source": []
  },
  {
   "cell_type": "code",
   "execution_count": null,
   "metadata": {},
   "outputs": [],
   "source": []
  },
  {
   "cell_type": "code",
   "execution_count": null,
   "metadata": {
    "collapsed": true
   },
   "outputs": [],
   "source": []
  }
 ],
 "metadata": {
  "kernelspec": {
   "display_name": "Python 3",
   "language": "python",
   "name": "python3"
  },
  "language_info": {
   "codemirror_mode": {
    "name": "ipython",
    "version": 3
   },
   "file_extension": ".py",
   "mimetype": "text/x-python",
   "name": "python",
   "nbconvert_exporter": "python",
   "pygments_lexer": "ipython3",
   "version": "3.6.4"
  }
 },
 "nbformat": 4,
 "nbformat_minor": 2
}
